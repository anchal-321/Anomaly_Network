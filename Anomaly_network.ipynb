{
  "nbformat": 4,
  "nbformat_minor": 0,
  "metadata": {
    "colab": {
      "provenance": [],
      "authorship_tag": "ABX9TyNTqufAd2SE8/M3hdJXiWNG"
    },
    "kernelspec": {
      "name": "python3",
      "display_name": "Python 3"
    },
    "language_info": {
      "name": "python"
    }
  },
  "cells": [
    {
      "cell_type": "code",
      "execution_count": 166,
      "metadata": {
        "id": "kNUu9a51IvKh"
      },
      "outputs": [],
      "source": [
        "import numpy as np\n",
        "import pandas as pd\n",
        "import seaborn as sns\n",
        "import matplotlib.pyplot as plt\n",
        "from pandas.api.types import is_numeric_dtype\n",
        "import warnings\n",
        "from sklearn.model_selection import train_test_split\n",
        "from sklearn.ensemble import RandomForestClassifier, AdaBoostClassifier, VotingClassifier, GradientBoostingClassifier\n",
        "from sklearn.neighbors import KNeighborsClassifier\n",
        "from sklearn.linear_model import LogisticRegression\n",
        "from sklearn.preprocessing import StandardScaler, LabelEncoder\n",
        "from sklearn.tree import DecisionTreeClassifier\n",
        "from sklearn.svm import SVC, LinearSVC\n",
        "from sklearn.naive_bayes import BernoulliNB\n",
        "from lightgbm import LGBMClassifier\n",
        "from sklearn.feature_selection import RFE\n",
        "from sklearn.metrics import classification_report, accuracy_score, confusion_matrix, f1_score\n",
        "from xgboost import XGBClassifier\n",
        "from tabulate import tabulate\n",
        "import itertools\n"
      ]
    },
    {
      "cell_type": "code",
      "source": [
        "all_data = pd.read_csv('all_data (3).csv')"
      ],
      "metadata": {
        "id": "u3vLwacFJDFg"
      },
      "execution_count": 167,
      "outputs": []
    },
    {
      "cell_type": "code",
      "source": [
        "print(all_data.head())\n",
        "print(all_data.columns)"
      ],
      "metadata": {
        "colab": {
          "base_uri": "https://localhost:8080/"
        },
        "id": "nNKse8nHJNRu",
        "outputId": "c3d6925a-3331-45d2-88b1-108b27dbcab6"
      },
      "execution_count": 168,
      "outputs": [
        {
          "output_type": "stream",
          "name": "stdout",
          "text": [
            "   ifInOctets11  ifOutOctets11  ifoutDiscards11  ifInUcastPkts11  \\\n",
            "0    1867925250      902237363                0         52007310   \n",
            "1    1994338334      903845459                0         52098054   \n",
            "2    2116573334      905396546                0         52185853   \n",
            "3    2257767832      907308930                0         52287097   \n",
            "4    2342047724      908534112                0         52347521   \n",
            "\n",
            "   ifInNUcastPkts11  ifInDiscards11  ifOutUcastPkts11  ifOutNUcastPkts11  \\\n",
            "0             16978               0           7197292               3968   \n",
            "1             16986               0           7227073               3968   \n",
            "2             16994               0           7255792               3969   \n",
            "3             17015               0           7291152               3975   \n",
            "4             17043               0           7313830               3977   \n",
            "\n",
            "   tcpOutRsts  tcpInSegs  ...  ipForwDatagrams  ipOutNoRoutes  ipInAddrErrors  \\\n",
            "0           1        682  ...         59244345              7               0   \n",
            "1           1        682  ...         59387381              7               0   \n",
            "2           1        682  ...         59498140              7               0   \n",
            "3           1        701  ...         59581345              7               0   \n",
            "4           1        709  ...         59664453              7               0   \n",
            "\n",
            "   icmpInMsgs  icmpInDestUnreachs  icmpOutMsgs  icmpOutDestUnreachs  \\\n",
            "0          49                  26           46                   23   \n",
            "1          49                  26           46                   23   \n",
            "2          49                  26           46                   23   \n",
            "3          51                  27           47                   23   \n",
            "4          51                  27           47                   23   \n",
            "\n",
            "   icmpInEchos  icmpOutEchoReps   class  \n",
            "0           23               23  normal  \n",
            "1           23               23  normal  \n",
            "2           23               23  normal  \n",
            "3           24               24  normal  \n",
            "4           24               24  normal  \n",
            "\n",
            "[5 rows x 35 columns]\n",
            "Index(['ifInOctets11', 'ifOutOctets11', 'ifoutDiscards11', 'ifInUcastPkts11',\n",
            "       'ifInNUcastPkts11', 'ifInDiscards11', 'ifOutUcastPkts11',\n",
            "       'ifOutNUcastPkts11', 'tcpOutRsts', 'tcpInSegs', 'tcpOutSegs',\n",
            "       'tcpPassiveOpens', 'tcpRetransSegs', 'tcpCurrEstab', 'tcpEstabResets',\n",
            "       'tcp?ActiveOpens', 'udpInDatagrams', 'udpOutDatagrams', 'udpInErrors',\n",
            "       'udpNoPorts', 'ipInReceives', 'ipInDelivers', 'ipOutRequests',\n",
            "       'ipOutDiscards', 'ipInDiscards', 'ipForwDatagrams', 'ipOutNoRoutes',\n",
            "       'ipInAddrErrors', 'icmpInMsgs', 'icmpInDestUnreachs', 'icmpOutMsgs',\n",
            "       'icmpOutDestUnreachs', 'icmpInEchos', 'icmpOutEchoReps', 'class'],\n",
            "      dtype='object')\n"
          ]
        }
      ]
    },
    {
      "cell_type": "code",
      "source": [
        "print(all_data.info())\n"
      ],
      "metadata": {
        "colab": {
          "base_uri": "https://localhost:8080/"
        },
        "id": "OTX3CCuMJTQc",
        "outputId": "7822d981-0083-4f48-8282-df6b9baad67f"
      },
      "execution_count": 169,
      "outputs": [
        {
          "output_type": "stream",
          "name": "stdout",
          "text": [
            "<class 'pandas.core.frame.DataFrame'>\n",
            "RangeIndex: 4998 entries, 0 to 4997\n",
            "Data columns (total 35 columns):\n",
            " #   Column               Non-Null Count  Dtype \n",
            "---  ------               --------------  ----- \n",
            " 0   ifInOctets11         4998 non-null   int64 \n",
            " 1   ifOutOctets11        4998 non-null   int64 \n",
            " 2   ifoutDiscards11      4998 non-null   int64 \n",
            " 3   ifInUcastPkts11      4998 non-null   int64 \n",
            " 4   ifInNUcastPkts11     4998 non-null   int64 \n",
            " 5   ifInDiscards11       4998 non-null   int64 \n",
            " 6   ifOutUcastPkts11     4998 non-null   int64 \n",
            " 7   ifOutNUcastPkts11    4998 non-null   int64 \n",
            " 8   tcpOutRsts           4998 non-null   int64 \n",
            " 9   tcpInSegs            4998 non-null   int64 \n",
            " 10  tcpOutSegs           4998 non-null   int64 \n",
            " 11  tcpPassiveOpens      4998 non-null   int64 \n",
            " 12  tcpRetransSegs       4998 non-null   int64 \n",
            " 13  tcpCurrEstab         4998 non-null   int64 \n",
            " 14  tcpEstabResets       4998 non-null   int64 \n",
            " 15  tcp?ActiveOpens      4998 non-null   int64 \n",
            " 16  udpInDatagrams       4998 non-null   int64 \n",
            " 17  udpOutDatagrams      4998 non-null   int64 \n",
            " 18  udpInErrors          4998 non-null   int64 \n",
            " 19  udpNoPorts           4998 non-null   int64 \n",
            " 20  ipInReceives         4998 non-null   int64 \n",
            " 21  ipInDelivers         4998 non-null   int64 \n",
            " 22  ipOutRequests        4998 non-null   int64 \n",
            " 23  ipOutDiscards        4998 non-null   int64 \n",
            " 24  ipInDiscards         4998 non-null   int64 \n",
            " 25  ipForwDatagrams      4998 non-null   int64 \n",
            " 26  ipOutNoRoutes        4998 non-null   int64 \n",
            " 27  ipInAddrErrors       4998 non-null   int64 \n",
            " 28  icmpInMsgs           4998 non-null   int64 \n",
            " 29  icmpInDestUnreachs   4998 non-null   int64 \n",
            " 30  icmpOutMsgs          4998 non-null   int64 \n",
            " 31  icmpOutDestUnreachs  4998 non-null   int64 \n",
            " 32  icmpInEchos          4998 non-null   int64 \n",
            " 33  icmpOutEchoReps      4998 non-null   int64 \n",
            " 34  class                4998 non-null   object\n",
            "dtypes: int64(34), object(1)\n",
            "memory usage: 1.3+ MB\n",
            "None\n"
          ]
        }
      ]
    },
    {
      "cell_type": "code",
      "source": [
        "all_data.shape"
      ],
      "metadata": {
        "colab": {
          "base_uri": "https://localhost:8080/"
        },
        "id": "qdRJ5hFROuUC",
        "outputId": "5672373f-79d4-43f3-de3c-5cd635f3fb4b"
      },
      "execution_count": 170,
      "outputs": [
        {
          "output_type": "execute_result",
          "data": {
            "text/plain": [
              "(4998, 35)"
            ]
          },
          "metadata": {},
          "execution_count": 170
        }
      ]
    },
    {
      "cell_type": "code",
      "source": [
        "print(all_data.describe())"
      ],
      "metadata": {
        "colab": {
          "base_uri": "https://localhost:8080/"
        },
        "id": "QvaG7fy3JYX3",
        "outputId": "fdfab8cd-3d56-4f45-d771-b4b82bb0b1ff"
      },
      "execution_count": 171,
      "outputs": [
        {
          "output_type": "stream",
          "name": "stdout",
          "text": [
            "       ifInOctets11  ifOutOctets11  ifoutDiscards11  ifInUcastPkts11  \\\n",
            "count  4.998000e+03   4.998000e+03      4998.000000     4.998000e+03   \n",
            "mean   2.161260e+09   1.281552e+09     36377.437975     9.150696e+07   \n",
            "std    1.233852e+09   1.153395e+09     74228.977904     5.800683e+07   \n",
            "min    1.426588e+06   1.618430e+05         0.000000     7.013690e+05   \n",
            "25%    1.094045e+09   3.724623e+08         0.000000     5.020809e+07   \n",
            "50%    2.180395e+09   8.935678e+08         0.000000     7.906267e+07   \n",
            "75%    3.221204e+09   2.448435e+09      4216.000000     1.313896e+08   \n",
            "max    4.294416e+09   4.294061e+09    196630.000000     2.439828e+08   \n",
            "\n",
            "       ifInNUcastPkts11  ifInDiscards11  ifOutUcastPkts11  ifOutNUcastPkts11  \\\n",
            "count       4998.000000     4998.000000      4.998000e+03        4998.000000   \n",
            "mean       20425.803922    36377.561825      2.680787e+07        4967.060624   \n",
            "std         7936.895813    74228.989718      2.328438e+07        1784.778092   \n",
            "min         2735.000000        0.000000      2.230760e+05         796.000000   \n",
            "25%        15081.000000        0.000000      8.049108e+06        3799.250000   \n",
            "50%        20987.000000        0.000000      1.745086e+07        5089.000000   \n",
            "75%        26931.000000     4216.000000      4.038847e+07        6383.000000   \n",
            "max        35238.000000   196630.000000      9.369831e+07        8311.000000   \n",
            "\n",
            "        tcpOutRsts    tcpInSegs  ...  ipInDiscards  ipForwDatagrams  \\\n",
            "count  4998.000000  4998.000000  ...   4998.000000     4.998000e+03   \n",
            "mean      2.393557   804.509004  ...     31.603241     1.183485e+08   \n",
            "std       1.086869   570.224711  ...     12.208877     8.013439e+07   \n",
            "min       1.000000    55.000000  ...      9.000000     9.874700e+05   \n",
            "25%       2.000000   195.000000  ...     23.000000     5.991003e+07   \n",
            "50%       2.000000   817.000000  ...     37.000000     9.806338e+07   \n",
            "75%       4.000000  1286.000000  ...     39.000000     1.774026e+08   \n",
            "max       4.000000  1945.000000  ...     58.000000     3.376958e+08   \n",
            "\n",
            "       ipOutNoRoutes  ipInAddrErrors   icmpInMsgs  icmpInDestUnreachs  \\\n",
            "count    4998.000000     4998.000000  4998.000000         4998.000000   \n",
            "mean        4.448980       34.515606    50.362345           27.724490   \n",
            "std         3.030579       24.954240    37.036257           18.863781   \n",
            "min         0.000000        0.000000     0.000000            0.000000   \n",
            "25%         0.000000        6.000000    12.000000           11.000000   \n",
            "50%         5.000000       42.000000    55.000000           29.000000   \n",
            "75%         7.000000       61.000000    83.750000           44.000000   \n",
            "max         7.000000       62.000000   127.000000           68.000000   \n",
            "\n",
            "       icmpOutMsgs  icmpOutDestUnreachs  icmpInEchos  icmpOutEchoReps  \n",
            "count  4998.000000          4998.000000  4998.000000      4998.000000  \n",
            "mean     34.803922            12.165866    22.638055        22.638055  \n",
            "std      20.826411             9.237202    18.481888        18.481888  \n",
            "min       0.000000             0.000000     0.000000         0.000000  \n",
            "25%      13.000000             1.000000     1.000000         1.000000  \n",
            "50%      34.000000            12.000000    26.000000        26.000000  \n",
            "75%      49.000000            21.000000    38.000000        38.000000  \n",
            "max      85.000000            23.000000    64.000000        64.000000  \n",
            "\n",
            "[8 rows x 34 columns]\n"
          ]
        }
      ]
    },
    {
      "cell_type": "code",
      "source": [
        "print(all_data.isnull().sum())"
      ],
      "metadata": {
        "colab": {
          "base_uri": "https://localhost:8080/"
        },
        "id": "vNfJtfrtJfJi",
        "outputId": "fd95f084-da62-4a3e-f129-a5ca0e34cdf1"
      },
      "execution_count": 172,
      "outputs": [
        {
          "output_type": "stream",
          "name": "stdout",
          "text": [
            "ifInOctets11           0\n",
            "ifOutOctets11          0\n",
            "ifoutDiscards11        0\n",
            "ifInUcastPkts11        0\n",
            "ifInNUcastPkts11       0\n",
            "ifInDiscards11         0\n",
            "ifOutUcastPkts11       0\n",
            "ifOutNUcastPkts11      0\n",
            "tcpOutRsts             0\n",
            "tcpInSegs              0\n",
            "tcpOutSegs             0\n",
            "tcpPassiveOpens        0\n",
            "tcpRetransSegs         0\n",
            "tcpCurrEstab           0\n",
            "tcpEstabResets         0\n",
            "tcp?ActiveOpens        0\n",
            "udpInDatagrams         0\n",
            "udpOutDatagrams        0\n",
            "udpInErrors            0\n",
            "udpNoPorts             0\n",
            "ipInReceives           0\n",
            "ipInDelivers           0\n",
            "ipOutRequests          0\n",
            "ipOutDiscards          0\n",
            "ipInDiscards           0\n",
            "ipForwDatagrams        0\n",
            "ipOutNoRoutes          0\n",
            "ipInAddrErrors         0\n",
            "icmpInMsgs             0\n",
            "icmpInDestUnreachs     0\n",
            "icmpOutMsgs            0\n",
            "icmpOutDestUnreachs    0\n",
            "icmpInEchos            0\n",
            "icmpOutEchoReps        0\n",
            "class                  0\n",
            "dtype: int64\n"
          ]
        }
      ]
    },
    {
      "cell_type": "code",
      "source": [
        "print(f\"Number of duplicate rows: {all_data.duplicated().sum()}\")"
      ],
      "metadata": {
        "colab": {
          "base_uri": "https://localhost:8080/"
        },
        "id": "9a1ebRfWJoWW",
        "outputId": "da8e8102-e213-40d5-fa8c-0ac1fdfc1606"
      },
      "execution_count": 173,
      "outputs": [
        {
          "output_type": "stream",
          "name": "stdout",
          "text": [
            "Number of duplicate rows: 0\n"
          ]
        }
      ]
    },
    {
      "cell_type": "code",
      "source": [
        "sns.countplot(x=all_data['class'])\n",
        "plt.show()"
      ],
      "metadata": {
        "colab": {
          "base_uri": "https://localhost:8080/",
          "height": 452
        },
        "id": "jF4ojH_QJvyN",
        "outputId": "c6b392c9-9896-44ee-c50a-801dda6c26d3"
      },
      "execution_count": 174,
      "outputs": [
        {
          "output_type": "display_data",
          "data": {
            "text/plain": [
              "<Figure size 640x480 with 1 Axes>"
            ],
            "image/png": "[encoded data removed]"
          },
          "metadata": {}
        }
      ]
    },
    {
      "cell_type": "code",
      "source": [
        "def label_encode(df):\n",
        "    for col in df.columns:\n",
        "        if df[col].dtype == 'object':\n",
        "            label_encoder = LabelEncoder()\n",
        "            df[col] = label_encoder.fit_transform(df[col])\n",
        "\n",
        "label_encode(all_data)"
      ],
      "metadata": {
        "id": "rnzlTl35J0Mx"
      },
      "execution_count": 175,
      "outputs": []
    },
    {
      "cell_type": "code",
      "source": [
        "missing_percent = all_data.isnull().sum() / len(all_data) * 100\n",
        "\n",
        "columns_to_drop = missing_percent[missing_percent > 90].index\n",
        "all_data.drop(columns_to_drop, axis=1, inplace=True)"
      ],
      "metadata": {
        "id": "DRMT2UtEPFbb"
      },
      "execution_count": 176,
      "outputs": []
    },
    {
      "cell_type": "code",
      "source": [
        "X = all_data.drop(['class'], axis=1)\n",
        "Y = all_data['class']"
      ],
      "metadata": {
        "id": "LwUdkx55J46r"
      },
      "execution_count": 177,
      "outputs": []
    },
    {
      "cell_type": "code",
      "source": [
        "rfc = RandomForestClassifier()"
      ],
      "metadata": {
        "id": "XzeCL5iGKkix"
      },
      "execution_count": 178,
      "outputs": []
    },
    {
      "cell_type": "code",
      "source": [
        "rfe = RFE(rfc, n_features_to_select=10)\n",
        "rfe = rfe.fit(X, Y)"
      ],
      "metadata": {
        "id": "w09bK2mZKpL6"
      },
      "execution_count": 179,
      "outputs": []
    },
    {
      "cell_type": "code",
      "source": [
        "feature_map = [(i, v) for i, v in zip(rfe.get_support(), X.columns)]\n",
        "selected_features = [v for i, v in feature_map if i==True]"
      ],
      "metadata": {
        "id": "z6rfcpMGKs1o"
      },
      "execution_count": 180,
      "outputs": []
    },
    {
      "cell_type": "code",
      "source": [
        "print(\"Selected Features:\")\n",
        "print(selected_features)"
      ],
      "metadata": {
        "colab": {
          "base_uri": "https://localhost:8080/"
        },
        "id": "NYlRkPj3KyG6",
        "outputId": "dc092e9b-9ebf-4bec-b513-f0cd9351a8b6"
      },
      "execution_count": 181,
      "outputs": [
        {
          "output_type": "stream",
          "name": "stdout",
          "text": [
            "Selected Features:\n",
            "['ifOutOctets11', 'ifInUcastPkts11', 'ifOutUcastPkts11', 'tcpInSegs', 'tcpOutSegs', 'tcpPassiveOpens', 'ipInReceives', 'ipOutRequests', 'ipOutDiscards', 'icmpOutMsgs']\n"
          ]
        }
      ]
    },
    {
      "cell_type": "code",
      "source": [
        "X = X[selected_features]\n"
      ],
      "metadata": {
        "id": "devGTGz1K2pj"
      },
      "execution_count": 182,
      "outputs": []
    },
    {
      "cell_type": "code",
      "source": [
        "scaler = StandardScaler()\n",
        "X = scaler.fit_transform(X)"
      ],
      "metadata": {
        "id": "jmD0NerSK6LV"
      },
      "execution_count": 183,
      "outputs": []
    },
    {
      "cell_type": "code",
      "source": [
        "x_train, x_test, y_train, y_test = train_test_split(X, Y, train_size=0.70, random_state=2)"
      ],
      "metadata": {
        "id": "P1CGXHJBK-Og"
      },
      "execution_count": 184,
      "outputs": []
    },
    {
      "cell_type": "code",
      "source": [
        "print(\"Shapes after train split:\")\n",
        "print(x_train.shape, y_train.shape)"
      ],
      "metadata": {
        "colab": {
          "base_uri": "https://localhost:8080/"
        },
        "id": "SCJAPrkNLDOS",
        "outputId": "b24df7de-c6bc-414e-b104-e7fa761c195b"
      },
      "execution_count": 185,
      "outputs": [
        {
          "output_type": "stream",
          "name": "stdout",
          "text": [
            "Shapes after train split:\n",
            "(3498, 10) (3498,)\n"
          ]
        }
      ]
    },
    {
      "cell_type": "code",
      "source": [
        "print(\"Shapes after test split:\")\n",
        "print(x_test.shape, y_test.shape)"
      ],
      "metadata": {
        "colab": {
          "base_uri": "https://localhost:8080/"
        },
        "id": "6hezYQNal-d5",
        "outputId": "5b9fba22-8fb9-43bc-a5cc-4b2b5b2d4bcf"
      },
      "execution_count": 186,
      "outputs": [
        {
          "output_type": "stream",
          "name": "stdout",
          "text": [
            "Shapes after test split:\n",
            "(1500, 10) (1500,)\n"
          ]
        }
      ]
    },
    {
      "cell_type": "code",
      "source": [
        "import time\n",
        "from sklearn.linear_model import LogisticRegression\n",
        "\n",
        "clfl = LogisticRegression(max_iter = 1200000)\n",
        "start_time = time.time()\n",
        "clfl.fit(x_train, y_train.values.ravel())\n",
        "end_time = time.time()\n",
        "print(\"Training time: \", end_time-start_time)"
      ],
      "metadata": {
        "colab": {
          "base_uri": "https://localhost:8080/"
        },
        "id": "KNJ-36VRnBEt",
        "outputId": "29ede797-2b47-49ec-961d-e7744e423540"
      },
      "execution_count": 187,
      "outputs": [
        {
          "output_type": "stream",
          "name": "stdout",
          "text": [
            "Training time:  0.8229050636291504\n"
          ]
        }
      ]
    },
    {
      "cell_type": "code",
      "source": [
        "start_time = time.time()\n",
        "y_test_pred = clfl.predict(x_train)\n",
        "end_time = time.time()\n",
        "print(\"Testing time: \", end_time-start_time)"
      ],
      "metadata": {
        "colab": {
          "base_uri": "https://localhost:8080/"
        },
        "id": "e4MMZmdonPU1",
        "outputId": "80885a79-8b61-4be5-d818-578f0dbe432c"
      },
      "execution_count": 188,
      "outputs": [
        {
          "output_type": "stream",
          "name": "stdout",
          "text": [
            "Testing time:  0.005844593048095703\n"
          ]
        }
      ]
    },
    {
      "cell_type": "code",
      "source": [
        "lg_model = LogisticRegression(random_state = 42)\n",
        "lg_model.fit(x_train, y_train)"
      ],
      "metadata": {
        "colab": {
          "base_uri": "https://localhost:8080/",
          "height": 234
        },
        "id": "at_6a_lfoion",
        "outputId": "3e8ac005-8024-4b5f-96d6-1401b9cd1f91"
      },
      "execution_count": 189,
      "outputs": [
        {
          "output_type": "stream",
          "name": "stderr",
          "text": [
            "/usr/local/lib/python3.10/dist-packages/sklearn/linear_model/_logistic.py:458: ConvergenceWarning: lbfgs failed to converge (status=1):\n",
            "STOP: TOTAL NO. of ITERATIONS REACHED LIMIT.\n",
            "\n",
            "Increase the number of iterations (max_iter) or scale the data as shown in:\n",
            "    https://scikit-learn.org/stable/modules/preprocessing.html\n",
            "Please also refer to the documentation for alternative solver options:\n",
            "    https://scikit-learn.org/stable/modules/linear_model.html#logistic-regression\n",
            "  n_iter_i = _check_optimize_result(\n"
          ]
        },
        {
          "output_type": "execute_result",
          "data": {
            "text/plain": [
              "LogisticRegression(random_state=42)"
            ],
            "text/html": [
              "<style>#sk-container-id-5 {color: black;background-color: white;}#sk-container-id-5 pre{padding: 0;}#sk-container-id-5 div.sk-toggleable {background-color: white;}#sk-container-id-5 label.sk-toggleable__label {cursor: pointer;display: block;width: 100%;margin-bottom: 0;padding: 0.3em;box-sizing: border-box;text-align: center;}#sk-container-id-5 label.sk-toggleable__label-arrow:before {content: \"▸\";float: left;margin-right: 0.25em;color: #696969;}#sk-container-id-5 label.sk-toggleable__label-arrow:hover:before {color: black;}#sk-container-id-5 div.sk-estimator:hover label.sk-toggleable__label-arrow:before {color: black;}#sk-container-id-5 div.sk-toggleable__content {max-height: 0;max-width: 0;overflow: hidden;text-align: left;background-color: #f0f8ff;}#sk-container-id-5 div.sk-toggleable__content pre {margin: 0.2em;color: black;border-radius: 0.25em;background-color: #f0f8ff;}#sk-container-id-5 input.sk-toggleable__control:checked~div.sk-toggleable__content {max-height: 200px;max-width: 100%;overflow: auto;}#sk-container-id-5 input.sk-toggleable__control:checked~label.sk-toggleable__label-arrow:before {content: \"▾\";}#sk-container-id-5 div.sk-estimator input.sk-toggleable__control:checked~label.sk-toggleable__label {background-color: #d4ebff;}#sk-container-id-5 div.sk-label input.sk-toggleable__control:checked~label.sk-toggleable__label {background-color: #d4ebff;}#sk-container-id-5 input.sk-hidden--visually {border: 0;clip: rect(1px 1px 1px 1px);clip: rect(1px, 1px, 1px, 1px);height: 1px;margin: -1px;overflow: hidden;padding: 0;position: absolute;width: 1px;}#sk-container-id-5 div.sk-estimator {font-family: monospace;background-color: #f0f8ff;border: 1px dotted black;border-radius: 0.25em;box-sizing: border-box;margin-bottom: 0.5em;}#sk-container-id-5 div.sk-estimator:hover {background-color: #d4ebff;}#sk-container-id-5 div.sk-parallel-item::after {content: \"\";width: 100%;border-bottom: 1px solid gray;flex-grow: 1;}#sk-container-id-5 div.sk-label:hover label.sk-toggleable__label {background-color: #d4ebff;}#sk-container-id-5 div.sk-serial::before {content: \"\";position: absolute;border-left: 1px solid gray;box-sizing: border-box;top: 0;bottom: 0;left: 50%;z-index: 0;}#sk-container-id-5 div.sk-serial {display: flex;flex-direction: column;align-items: center;background-color: white;padding-right: 0.2em;padding-left: 0.2em;position: relative;}#sk-container-id-5 div.sk-item {position: relative;z-index: 1;}#sk-container-id-5 div.sk-parallel {display: flex;align-items: stretch;justify-content: center;background-color: white;position: relative;}#sk-container-id-5 div.sk-item::before, #sk-container-id-5 div.sk-parallel-item::before {content: \"\";position: absolute;border-left: 1px solid gray;box-sizing: border-box;top: 0;bottom: 0;left: 50%;z-index: -1;}#sk-container-id-5 div.sk-parallel-item {display: flex;flex-direction: column;z-index: 1;position: relative;background-color: white;}#sk-container-id-5 div.sk-parallel-item:first-child::after {align-self: flex-end;width: 50%;}#sk-container-id-5 div.sk-parallel-item:last-child::after {align-self: flex-start;width: 50%;}#sk-container-id-5 div.sk-parallel-item:only-child::after {width: 0;}#sk-container-id-5 div.sk-dashed-wrapped {border: 1px dashed gray;margin: 0 0.4em 0.5em 0.4em;box-sizing: border-box;padding-bottom: 0.4em;background-color: white;}#sk-container-id-5 div.sk-label label {font-family: monospace;font-weight: bold;display: inline-block;line-height: 1.2em;}#sk-container-id-5 div.sk-label-container {text-align: center;}#sk-container-id-5 div.sk-container {/* jupyter's `normalize.less` sets `[hidden] { display: none; }` but bootstrap.min.css set `[hidden] { display: none !important; }` so we also need the `!important` here to be able to override the default hidden behavior on the sphinx rendered scikit-learn.org. See: https://github.com/scikit-learn/scikit-learn/issues/21755 */display: inline-block !important;position: relative;}#sk-container-id-5 div.sk-text-repr-fallback {display: none;}</style><div id=\"sk-container-id-5\" class=\"sk-top-container\"><div class=\"sk-text-repr-fallback\"><pre>LogisticRegression(random_state=42)</pre><b>In a Jupyter environment, please rerun this cell to show the HTML representation or trust the notebook. <br />On GitHub, the HTML representation is unable to render, please try loading this page with nbviewer.org.</b></div><div class=\"sk-container\" hidden><div class=\"sk-item\"><div class=\"sk-estimator sk-toggleable\"><input class=\"sk-toggleable__control sk-hidden--visually\" id=\"sk-estimator-id-5\" type=\"checkbox\" checked><label for=\"sk-estimator-id-5\" class=\"sk-toggleable__label sk-toggleable__label-arrow\">LogisticRegression</label><div class=\"sk-toggleable__content\"><pre>LogisticRegression(random_state=42)</pre></div></div></div></div></div>"
            ]
          },
          "metadata": {},
          "execution_count": 189
        }
      ]
    },
    {
      "cell_type": "code",
      "source": [
        "lg_train, lg_test = lg_model.score(x_train , y_train), lg_model.score(x_test , y_test)\n",
        "\n",
        "print(f\"Training Score: {lg_train}\")\n",
        "print(f\"Test Score: {lg_test}\")"
      ],
      "metadata": {
        "colab": {
          "base_uri": "https://localhost:8080/"
        },
        "id": "cX6akJHaoSMP",
        "outputId": "b4190320-a0be-4765-c67b-fcf9b4c5ef39"
      },
      "execution_count": 190,
      "outputs": [
        {
          "output_type": "stream",
          "name": "stdout",
          "text": [
            "Training Score: 0.9376786735277302\n",
            "Test Score: 0.934\n"
          ]
        }
      ]
    },
    {
      "cell_type": "code",
      "source": [
        "from sklearn.linear_model import LogisticRegression"
      ],
      "metadata": {
        "id": "hSwzohwqLILI"
      },
      "execution_count": 191,
      "outputs": []
    },
    {
      "cell_type": "code",
      "source": [
        "clf = LogisticRegression(max_iter=1200000)\n",
        "clf.fit(x_train, y_train)"
      ],
      "metadata": {
        "colab": {
          "base_uri": "https://localhost:8080/",
          "height": 75
        },
        "id": "CPrtqIy_LO3e",
        "outputId": "33e62b4a-8591-4643-fc9c-4a3b8703b4cd"
      },
      "execution_count": 192,
      "outputs": [
        {
          "output_type": "execute_result",
          "data": {
            "text/plain": [
              "LogisticRegression(max_iter=1200000)"
            ],
            "text/html": [
              "<style>#sk-container-id-6 {color: black;background-color: white;}#sk-container-id-6 pre{padding: 0;}#sk-container-id-6 div.sk-toggleable {background-color: white;}#sk-container-id-6 label.sk-toggleable__label {cursor: pointer;display: block;width: 100%;margin-bottom: 0;padding: 0.3em;box-sizing: border-box;text-align: center;}#sk-container-id-6 label.sk-toggleable__label-arrow:before {content: \"▸\";float: left;margin-right: 0.25em;color: #696969;}#sk-container-id-6 label.sk-toggleable__label-arrow:hover:before {color: black;}#sk-container-id-6 div.sk-estimator:hover label.sk-toggleable__label-arrow:before {color: black;}#sk-container-id-6 div.sk-toggleable__content {max-height: 0;max-width: 0;overflow: hidden;text-align: left;background-color: #f0f8ff;}#sk-container-id-6 div.sk-toggleable__content pre {margin: 0.2em;color: black;border-radius: 0.25em;background-color: #f0f8ff;}#sk-container-id-6 input.sk-toggleable__control:checked~div.sk-toggleable__content {max-height: 200px;max-width: 100%;overflow: auto;}#sk-container-id-6 input.sk-toggleable__control:checked~label.sk-toggleable__label-arrow:before {content: \"▾\";}#sk-container-id-6 div.sk-estimator input.sk-toggleable__control:checked~label.sk-toggleable__label {background-color: #d4ebff;}#sk-container-id-6 div.sk-label input.sk-toggleable__control:checked~label.sk-toggleable__label {background-color: #d4ebff;}#sk-container-id-6 input.sk-hidden--visually {border: 0;clip: rect(1px 1px 1px 1px);clip: rect(1px, 1px, 1px, 1px);height: 1px;margin: -1px;overflow: hidden;padding: 0;position: absolute;width: 1px;}#sk-container-id-6 div.sk-estimator {font-family: monospace;background-color: #f0f8ff;border: 1px dotted black;border-radius: 0.25em;box-sizing: border-box;margin-bottom: 0.5em;}#sk-container-id-6 div.sk-estimator:hover {background-color: #d4ebff;}#sk-container-id-6 div.sk-parallel-item::after {content: \"\";width: 100%;border-bottom: 1px solid gray;flex-grow: 1;}#sk-container-id-6 div.sk-label:hover label.sk-toggleable__label {background-color: #d4ebff;}#sk-container-id-6 div.sk-serial::before {content: \"\";position: absolute;border-left: 1px solid gray;box-sizing: border-box;top: 0;bottom: 0;left: 50%;z-index: 0;}#sk-container-id-6 div.sk-serial {display: flex;flex-direction: column;align-items: center;background-color: white;padding-right: 0.2em;padding-left: 0.2em;position: relative;}#sk-container-id-6 div.sk-item {position: relative;z-index: 1;}#sk-container-id-6 div.sk-parallel {display: flex;align-items: stretch;justify-content: center;background-color: white;position: relative;}#sk-container-id-6 div.sk-item::before, #sk-container-id-6 div.sk-parallel-item::before {content: \"\";position: absolute;border-left: 1px solid gray;box-sizing: border-box;top: 0;bottom: 0;left: 50%;z-index: -1;}#sk-container-id-6 div.sk-parallel-item {display: flex;flex-direction: column;z-index: 1;position: relative;background-color: white;}#sk-container-id-6 div.sk-parallel-item:first-child::after {align-self: flex-end;width: 50%;}#sk-container-id-6 div.sk-parallel-item:last-child::after {align-self: flex-start;width: 50%;}#sk-container-id-6 div.sk-parallel-item:only-child::after {width: 0;}#sk-container-id-6 div.sk-dashed-wrapped {border: 1px dashed gray;margin: 0 0.4em 0.5em 0.4em;box-sizing: border-box;padding-bottom: 0.4em;background-color: white;}#sk-container-id-6 div.sk-label label {font-family: monospace;font-weight: bold;display: inline-block;line-height: 1.2em;}#sk-container-id-6 div.sk-label-container {text-align: center;}#sk-container-id-6 div.sk-container {/* jupyter's `normalize.less` sets `[hidden] { display: none; }` but bootstrap.min.css set `[hidden] { display: none !important; }` so we also need the `!important` here to be able to override the default hidden behavior on the sphinx rendered scikit-learn.org. See: https://github.com/scikit-learn/scikit-learn/issues/21755 */display: inline-block !important;position: relative;}#sk-container-id-6 div.sk-text-repr-fallback {display: none;}</style><div id=\"sk-container-id-6\" class=\"sk-top-container\"><div class=\"sk-text-repr-fallback\"><pre>LogisticRegression(max_iter=1200000)</pre><b>In a Jupyter environment, please rerun this cell to show the HTML representation or trust the notebook. <br />On GitHub, the HTML representation is unable to render, please try loading this page with nbviewer.org.</b></div><div class=\"sk-container\" hidden><div class=\"sk-item\"><div class=\"sk-estimator sk-toggleable\"><input class=\"sk-toggleable__control sk-hidden--visually\" id=\"sk-estimator-id-6\" type=\"checkbox\" checked><label for=\"sk-estimator-id-6\" class=\"sk-toggleable__label sk-toggleable__label-arrow\">LogisticRegression</label><div class=\"sk-toggleable__content\"><pre>LogisticRegression(max_iter=1200000)</pre></div></div></div></div></div>"
            ]
          },
          "metadata": {},
          "execution_count": 192
        }
      ]
    },
    {
      "cell_type": "code",
      "source": [
        "y_pred = clf.predict(x_test)"
      ],
      "metadata": {
        "id": "K4JkBPXvLTnG"
      },
      "execution_count": 193,
      "outputs": []
    },
    {
      "cell_type": "code",
      "source": [
        "print(\"Classification Report:\")\n",
        "print(classification_report(y_test, y_pred))"
      ],
      "metadata": {
        "colab": {
          "base_uri": "https://localhost:8080/"
        },
        "id": "yKb5qKaILZmv",
        "outputId": "8048cb1a-3358-4c02-aaf3-337ce53c290f"
      },
      "execution_count": 194,
      "outputs": [
        {
          "output_type": "stream",
          "name": "stdout",
          "text": [
            "Classification Report:\n",
            "              precision    recall  f1-score   support\n",
            "\n",
            "           0       0.72      0.72      0.72        61\n",
            "           1       1.00      0.88      0.94       162\n",
            "           2       0.96      0.81      0.88       190\n",
            "           3       0.94      0.96      0.95       193\n",
            "           4       0.93      1.00      0.96       233\n",
            "           5       0.92      1.00      0.96       144\n",
            "           6       0.90      0.95      0.92       291\n",
            "           7       0.99      0.99      0.99       226\n",
            "\n",
            "    accuracy                           0.94      1500\n",
            "   macro avg       0.92      0.91      0.92      1500\n",
            "weighted avg       0.94      0.94      0.93      1500\n",
            "\n"
          ]
        }
      ]
    },
    {
      "cell_type": "code",
      "source": [
        "print(\"Confusion Matrix:\")\n",
        "print(confusion_matrix(y_test, y_pred))"
      ],
      "metadata": {
        "colab": {
          "base_uri": "https://localhost:8080/"
        },
        "id": "aObsGNrOLd1A",
        "outputId": "3b0d04a8-280a-49be-a0f3-735d5c292cee"
      },
      "execution_count": 195,
      "outputs": [
        {
          "output_type": "stream",
          "name": "stdout",
          "text": [
            "Confusion Matrix:\n",
            "[[ 44   0   0   0   0   9   8   0]\n",
            " [  0 143   1   5   0   2  11   0]\n",
            " [ 17   0 154   6   0   0  11   2]\n",
            " [  0   0   0 186   7   0   0   0]\n",
            " [  0   0   0   0 233   0   0   0]\n",
            " [  0   0   0   0   0 144   0   0]\n",
            " [  0   0   5   0  10   0 276   0]\n",
            " [  0   0   1   0   0   2   0 223]]\n"
          ]
        }
      ]
    },
    {
      "cell_type": "code",
      "source": [
        "cm = confusion_matrix(y_test, y_pred)\n",
        "plt.figure(figsize=(8, 6))\n",
        "sns.heatmap(cm, annot=True, cmap='Blues', fmt='d', cbar=False)\n",
        "plt.title('Confusion Matrix')\n",
        "plt.xlabel('Predicted Labels')\n",
        "plt.ylabel('True Labels')\n",
        "plt.show()"
      ],
      "metadata": {
        "colab": {
          "base_uri": "https://localhost:8080/",
          "height": 564
        },
        "id": "h8latCZyLinR",
        "outputId": "ad8ee330-0489-43fc-94b5-b030451c5a9d"
      },
      "execution_count": 196,
      "outputs": [
        {
          "output_type": "display_data",
          "data": {
            "text/plain": [
              "<Figure size 800x600 with 1 Axes>"
            ],
            "image/png": "[encoded data removed]"
          },
          "metadata": {}
        }
      ]
    },
    {
      "cell_type": "code",
      "source": [
        "accuracy = accuracy_score(y_test, y_pred)\n",
        "print(f\"Accuracy: {accuracy * 100:.2f}%\")"
      ],
      "metadata": {
        "colab": {
          "base_uri": "https://localhost:8080/"
        },
        "id": "Ql9yDvSpLvq6",
        "outputId": "f6e8e2fa-b97c-4c6d-9bb2-10132ca536f5"
      },
      "execution_count": 197,
      "outputs": [
        {
          "output_type": "stream",
          "name": "stdout",
          "text": [
            "Accuracy: 93.53%\n"
          ]
        }
      ]
    },
    {
      "cell_type": "code",
      "source": [
        "pip install optuna"
      ],
      "metadata": {
        "colab": {
          "base_uri": "https://localhost:8080/"
        },
        "id": "H_PbkG4RpSzO",
        "outputId": "efcb52a8-0ac7-4e4a-b97e-1ef5296cadbe"
      },
      "execution_count": 198,
      "outputs": [
        {
          "output_type": "stream",
          "name": "stdout",
          "text": [
            "Requirement already satisfied: optuna in /usr/local/lib/python3.10/dist-packages (3.6.1)\n",
            "Requirement already satisfied: alembic>=1.5.0 in /usr/local/lib/python3.10/dist-packages (from optuna) (1.13.2)\n",
            "Requirement already satisfied: colorlog in /usr/local/lib/python3.10/dist-packages (from optuna) (6.8.2)\n",
            "Requirement already satisfied: numpy in /usr/local/lib/python3.10/dist-packages (from optuna) (1.25.2)\n",
            "Requirement already satisfied: packaging>=20.0 in /usr/local/lib/python3.10/dist-packages (from optuna) (24.1)\n",
            "Requirement already satisfied: sqlalchemy>=1.3.0 in /usr/local/lib/python3.10/dist-packages (from optuna) (2.0.31)\n",
            "Requirement already satisfied: tqdm in /usr/local/lib/python3.10/dist-packages (from optuna) (4.66.4)\n",
            "Requirement already satisfied: PyYAML in /usr/local/lib/python3.10/dist-packages (from optuna) (6.0.1)\n",
            "Requirement already satisfied: Mako in /usr/local/lib/python3.10/dist-packages (from alembic>=1.5.0->optuna) (1.3.5)\n",
            "Requirement already satisfied: typing-extensions>=4 in /usr/local/lib/python3.10/dist-packages (from alembic>=1.5.0->optuna) (4.12.2)\n",
            "Requirement already satisfied: greenlet!=0.4.17 in /usr/local/lib/python3.10/dist-packages (from sqlalchemy>=1.3.0->optuna) (3.0.3)\n",
            "Requirement already satisfied: MarkupSafe>=0.9.2 in /usr/local/lib/python3.10/dist-packages (from Mako->alembic>=1.5.0->optuna) (2.1.5)\n"
          ]
        }
      ]
    },
    {
      "cell_type": "code",
      "source": [
        "import optuna\n",
        "optuna.logging.set_verbosity(optuna.logging.WARNING)"
      ],
      "metadata": {
        "id": "YoioDQ24o-Zo"
      },
      "execution_count": 199,
      "outputs": []
    },
    {
      "cell_type": "code",
      "source": [
        "def objective(trial):\n",
        "    n_neighbors = trial.suggest_int('KNN_n_neighbors', 2, 16, log=False)\n",
        "    classifier_obj = KNeighborsClassifier(n_neighbors=n_neighbors)\n",
        "    classifier_obj.fit(x_train, y_train)\n",
        "    accuracy = classifier_obj.score(x_test, y_test)\n",
        "    return accuracy\n"
      ],
      "metadata": {
        "id": "nxjz_RNlpYLN"
      },
      "execution_count": 200,
      "outputs": []
    },
    {
      "cell_type": "code",
      "source": [
        "\n",
        "study_KNN = optuna.create_study(direction='maximize')\n",
        "study_KNN.optimize(objective, n_trials=1)\n",
        "print(study_KNN.best_trial)\n"
      ],
      "metadata": {
        "colab": {
          "base_uri": "https://localhost:8080/"
        },
        "id": "n-9GmVTapcfr",
        "outputId": "55487722-37e2-425a-a41e-09534d774082"
      },
      "execution_count": 201,
      "outputs": [
        {
          "output_type": "stream",
          "name": "stdout",
          "text": [
            "FrozenTrial(number=0, state=TrialState.COMPLETE, values=[0.9986666666666667], datetime_start=datetime.datetime(2024, 7, 8, 10, 43, 57, 689104), datetime_complete=datetime.datetime(2024, 7, 8, 10, 43, 57, 780937), params={'KNN_n_neighbors': 3}, user_attrs={}, system_attrs={}, intermediate_values={}, distributions={'KNN_n_neighbors': IntDistribution(high=16, log=False, low=2, step=1)}, trial_id=0, value=None)\n"
          ]
        }
      ]
    },
    {
      "cell_type": "code",
      "source": [
        "KNN_model = KNeighborsClassifier(n_neighbors=study_KNN.best_trial.params['KNN_n_neighbors'])\n",
        "KNN_model.fit(x_train, y_train)\n",
        "\n",
        "KNN_train, KNN_test = KNN_model.score(x_train, y_train), KNN_model.score(x_test, y_test)\n",
        "\n",
        "print(f\"Train Score: {KNN_train}\")\n",
        "print(f\"Test Score: {KNN_test}\")\n",
        "\n"
      ],
      "metadata": {
        "colab": {
          "base_uri": "https://localhost:8080/"
        },
        "id": "BUdK_t6Mpwal",
        "outputId": "6f85eb91-8942-4986-c7d5-dd5ea3de3b3d"
      },
      "execution_count": 202,
      "outputs": [
        {
          "output_type": "stream",
          "name": "stdout",
          "text": [
            "Train Score: 1.0\n",
            "Test Score: 0.9986666666666667\n"
          ]
        }
      ]
    },
    {
      "cell_type": "code",
      "source": [
        "from sklearn.tree import DecisionTreeClassifier\n",
        "\n",
        "clfd = DecisionTreeClassifier(criterion =\"entropy\", max_depth = 4)\n",
        "start_time = time.time()\n",
        "clfd.fit(x_train, y_train.values.ravel())\n",
        "end_time = time.time()\n",
        "print(\"Training time: \", end_time-start_time)\n"
      ],
      "metadata": {
        "colab": {
          "base_uri": "https://localhost:8080/"
        },
        "id": "eJ2BuCcHp6Eo",
        "outputId": "eb47e83e-5bc6-4723-ff65-9d76e20011a1"
      },
      "execution_count": 203,
      "outputs": [
        {
          "output_type": "stream",
          "name": "stdout",
          "text": [
            "Training time:  0.02242898941040039\n"
          ]
        }
      ]
    },
    {
      "cell_type": "code",
      "source": [
        "start_time = time.time()\n",
        "y_test_pred = clfd.predict(x_train)\n",
        "end_time = time.time()\n",
        "print(\"Testing time: \", end_time-start_time)"
      ],
      "metadata": {
        "colab": {
          "base_uri": "https://localhost:8080/"
        },
        "id": "xCErvKzrp9k6",
        "outputId": "c60e6dbd-33e3-45bc-90ca-12a7a2610c12"
      },
      "execution_count": 204,
      "outputs": [
        {
          "output_type": "stream",
          "name": "stdout",
          "text": [
            "Testing time:  0.001978158950805664\n"
          ]
        }
      ]
    },
    {
      "cell_type": "code",
      "source": [
        "def objective(trial):\n",
        "    dt_max_depth = trial.suggest_int('dt_max_depth', 2, 32, log=False)\n",
        "    dt_max_features = trial.suggest_int('dt_max_features', 2, 10, log=False)\n",
        "    classifier_obj = DecisionTreeClassifier(max_features = dt_max_features, max_depth = dt_max_depth)\n",
        "    classifier_obj.fit(x_train, y_train)\n",
        "    accuracy = classifier_obj.score(x_test, y_test)\n",
        "    return accuracy\n",
        ""
      ],
      "metadata": {
        "id": "muQjJvrhqDG0"
      },
      "execution_count": 205,
      "outputs": []
    },
    {
      "cell_type": "code",
      "source": [
        "study_dt = optuna.create_study(direction='maximize')\n",
        "study_dt.optimize(objective, n_trials=30)\n",
        "print(study_dt.best_trial)\n",
        ""
      ],
      "metadata": {
        "colab": {
          "base_uri": "https://localhost:8080/"
        },
        "id": "6c_ovlu1qGkP",
        "outputId": "966d2e39-9094-4604-8ff8-eddb6966f4e9"
      },
      "execution_count": 206,
      "outputs": [
        {
          "output_type": "stream",
          "name": "stdout",
          "text": [
            "FrozenTrial(number=2, state=TrialState.COMPLETE, values=[1.0], datetime_start=datetime.datetime(2024, 7, 8, 10, 43, 58, 211616), datetime_complete=datetime.datetime(2024, 7, 8, 10, 43, 58, 225788), params={'dt_max_depth': 26, 'dt_max_features': 8}, user_attrs={}, system_attrs={}, intermediate_values={}, distributions={'dt_max_depth': IntDistribution(high=32, log=False, low=2, step=1), 'dt_max_features': IntDistribution(high=10, log=False, low=2, step=1)}, trial_id=2, value=None)\n"
          ]
        }
      ]
    },
    {
      "cell_type": "code",
      "source": [
        "dt = DecisionTreeClassifier(max_features = study_dt.best_trial.params['dt_max_features'], max_depth = study_dt.best_trial.params['dt_max_depth'])\n",
        "dt.fit(x_train, y_train)\n",
        "\n",
        "dt_train, dt_test = dt.score(x_train, y_train), dt.score(x_test, y_test)\n",
        "\n",
        "print(f\"Train Score: {dt_train}\")\n",
        "print(f\"Test Score: {dt_test}\")"
      ],
      "metadata": {
        "colab": {
          "base_uri": "https://localhost:8080/"
        },
        "id": "EDnwT1czqJuB",
        "outputId": "94ed1fbd-c9ec-4178-89b9-110ffe17949c"
      },
      "execution_count": 207,
      "outputs": [
        {
          "output_type": "stream",
          "name": "stdout",
          "text": [
            "Train Score: 1.0\n",
            "Test Score: 1.0\n"
          ]
        }
      ]
    },
    {
      "cell_type": "code",
      "source": [
        "data = [[\"KNN\", KNN_train, KNN_test],\n",
        "        [\"Logistic Regression\", lg_train, lg_test],\n",
        "        [\"Decision Tree\", dt_train, dt_test]]\n",
        "\n",
        "col_names = [\"Model\", \"Train Score\", \"Test Score\"]\n",
        "print(tabulate(data, headers=col_names, tablefmt=\"fancy_grid\"))"
      ],
      "metadata": {
        "colab": {
          "base_uri": "https://localhost:8080/"
        },
        "id": "I9kZXUyWqNWs",
        "outputId": "2d0e95c6-4bc3-4805-ee00-c5638d10f9ba"
      },
      "execution_count": 208,
      "outputs": [
        {
          "output_type": "stream",
          "name": "stdout",
          "text": [
            "╒═════════════════════╤═══════════════╤══════════════╕\n",
            "│ Model               │   Train Score │   Test Score │\n",
            "╞═════════════════════╪═══════════════╪══════════════╡\n",
            "│ KNN                 │      1        │     0.998667 │\n",
            "├─────────────────────┼───────────────┼──────────────┤\n",
            "│ Logistic Regression │      0.937679 │     0.934    │\n",
            "├─────────────────────┼───────────────┼──────────────┤\n",
            "│ Decision Tree       │      1        │     1        │\n",
            "╘═════════════════════╧═══════════════╧══════════════╛\n"
          ]
        }
      ]
    },
    {
      "cell_type": "code",
      "source": [
        "SEED = 42\n",
        "\n",
        "dtc = DecisionTreeClassifier()\n",
        "\n",
        "knn = KNeighborsClassifier()\n",
        "\n",
        "lr = LogisticRegression()"
      ],
      "metadata": {
        "id": "2HhfcldBqRE6"
      },
      "execution_count": 209,
      "outputs": []
    },
    {
      "cell_type": "code",
      "source": [
        "\n",
        "from sklearn.model_selection import cross_val_score\n",
        "models = {}\n",
        "models['KNeighborsClassifier']= knn\n",
        "models['LogisticRegression']= lr\n",
        "models['DecisionTreeClassifier']= dtc"
      ],
      "metadata": {
        "id": "HkxWaT-QqVIQ"
      },
      "execution_count": 210,
      "outputs": []
    },
    {
      "cell_type": "code",
      "source": [
        "models = {}\n",
        "models['KNeighborsClassifier']= knn\n",
        "models['LogisticRegression']= lr\n",
        "models['DecisionTreeClassifier']= dtc"
      ],
      "metadata": {
        "id": "RWsi6x7Ussow"
      },
      "execution_count": 211,
      "outputs": []
    },
    {
      "cell_type": "code",
      "source": [
        "\n",
        "preds={}\n",
        "for name in models:\n",
        "    models[name].fit(x_train, y_train)\n",
        "    preds[name] = models[name].predict(x_test)\n",
        "print(\"Predictions complete.\")"
      ],
      "metadata": {
        "colab": {
          "base_uri": "https://localhost:8080/"
        },
        "id": "qzRaGdR9svdJ",
        "outputId": "4766f97d-5a13-4e53-a052-3d870a1a5b90"
      },
      "execution_count": 212,
      "outputs": [
        {
          "output_type": "stream",
          "name": "stdout",
          "text": [
            "Predictions complete.\n"
          ]
        },
        {
          "output_type": "stream",
          "name": "stderr",
          "text": [
            "/usr/local/lib/python3.10/dist-packages/sklearn/linear_model/_logistic.py:458: ConvergenceWarning: lbfgs failed to converge (status=1):\n",
            "STOP: TOTAL NO. of ITERATIONS REACHED LIMIT.\n",
            "\n",
            "Increase the number of iterations (max_iter) or scale the data as shown in:\n",
            "    https://scikit-learn.org/stable/modules/preprocessing.html\n",
            "Please also refer to the documentation for alternative solver options:\n",
            "    https://scikit-learn.org/stable/modules/linear_model.html#logistic-regression\n",
            "  n_iter_i = _check_optimize_result(\n"
          ]
        }
      ]
    },
    {
      "cell_type": "code",
      "source": [
        "def optimize_logistic_regression(trial):\n",
        "    C = trial.suggest_loguniform('lr_C', 1e-5, 1e2)\n",
        "    lr = LogisticRegression(C=C, max_iter=1200000)\n",
        "    lr.fit(x_train, y_train)\n",
        "    return lr.score(x_test, y_test)"
      ],
      "metadata": {
        "id": "HAgZcfqtwEjT"
      },
      "execution_count": 213,
      "outputs": []
    },
    {
      "cell_type": "code",
      "source": [
        "def optimize_decision_tree(trial):\n",
        "    max_depth = trial.suggest_int('dt_max_depth', 2, 32)\n",
        "    max_features = trial.suggest_int('dt_max_features', 2, 10)\n",
        "\n",
        "    dt = DecisionTreeClassifier(max_depth=max_depth, max_features=max_features)\n",
        "    dt.fit(x_train, y_train)\n",
        "\n",
        "    return dt.score(x_test, y_test)\n"
      ],
      "metadata": {
        "id": "LRfyVp0r0A-9"
      },
      "execution_count": 214,
      "outputs": []
    },
    {
      "cell_type": "code",
      "source": [
        "def optimize_knn(trial):\n",
        "    n_neighbors = trial.suggest_int('KNN_n_neighbors', 2, 16)\n",
        "\n",
        "    knn = KNeighborsClassifier(n_neighbors=n_neighbors)\n",
        "    knn.fit(x_train, y_train)\n",
        "\n",
        "    return knn.score(x_test, y_test)\n"
      ],
      "metadata": {
        "id": "GJoKntIU0FFE"
      },
      "execution_count": 215,
      "outputs": []
    },
    {
      "cell_type": "code",
      "source": [
        "study_dt = optuna.create_study(direction='maximize')\n",
        "study_dt.optimize(optimize_decision_tree, n_trials=30)\n"
      ],
      "metadata": {
        "id": "mMhUM0Le0YtP"
      },
      "execution_count": 216,
      "outputs": []
    },
    {
      "cell_type": "code",
      "source": [
        "study_knn = optuna.create_study(direction='maximize')\n",
        "study_knn.optimize(optimize_knn, n_trials=30)"
      ],
      "metadata": {
        "id": "j2qrrAa30XUc"
      },
      "execution_count": 217,
      "outputs": []
    },
    {
      "cell_type": "code",
      "source": [
        "study_lr = optuna.create_study(direction='maximize')\n",
        "study_lr.optimize(optimize_logistic_regression, n_trials=30)"
      ],
      "metadata": {
        "colab": {
          "base_uri": "https://localhost:8080/"
        },
        "id": "VAiToXfAwFzL",
        "outputId": "baf1574e-f9e3-4fa4-fb89-7d7af41daaf2"
      },
      "execution_count": 218,
      "outputs": [
        {
          "output_type": "stream",
          "name": "stderr",
          "text": [
            "<ipython-input-213-cb7bb886cc37>:2: FutureWarning: suggest_loguniform has been deprecated in v3.0.0. This feature will be removed in v6.0.0. See https://github.com/optuna/optuna/releases/tag/v3.0.0. Use suggest_float(..., log=True) instead.\n",
            "  C = trial.suggest_loguniform('lr_C', 1e-5, 1e2)\n",
            "<ipython-input-213-cb7bb886cc37>:2: FutureWarning: suggest_loguniform has been deprecated in v3.0.0. This feature will be removed in v6.0.0. See https://github.com/optuna/optuna/releases/tag/v3.0.0. Use suggest_float(..., log=True) instead.\n",
            "  C = trial.suggest_loguniform('lr_C', 1e-5, 1e2)\n",
            "<ipython-input-213-cb7bb886cc37>:2: FutureWarning: suggest_loguniform has been deprecated in v3.0.0. This feature will be removed in v6.0.0. See https://github.com/optuna/optuna/releases/tag/v3.0.0. Use suggest_float(..., log=True) instead.\n",
            "  C = trial.suggest_loguniform('lr_C', 1e-5, 1e2)\n",
            "<ipython-input-213-cb7bb886cc37>:2: FutureWarning: suggest_loguniform has been deprecated in v3.0.0. This feature will be removed in v6.0.0. See https://github.com/optuna/optuna/releases/tag/v3.0.0. Use suggest_float(..., log=True) instead.\n",
            "  C = trial.suggest_loguniform('lr_C', 1e-5, 1e2)\n",
            "<ipython-input-213-cb7bb886cc37>:2: FutureWarning: suggest_loguniform has been deprecated in v3.0.0. This feature will be removed in v6.0.0. See https://github.com/optuna/optuna/releases/tag/v3.0.0. Use suggest_float(..., log=True) instead.\n",
            "  C = trial.suggest_loguniform('lr_C', 1e-5, 1e2)\n",
            "<ipython-input-213-cb7bb886cc37>:2: FutureWarning: suggest_loguniform has been deprecated in v3.0.0. This feature will be removed in v6.0.0. See https://github.com/optuna/optuna/releases/tag/v3.0.0. Use suggest_float(..., log=True) instead.\n",
            "  C = trial.suggest_loguniform('lr_C', 1e-5, 1e2)\n",
            "<ipython-input-213-cb7bb886cc37>:2: FutureWarning: suggest_loguniform has been deprecated in v3.0.0. This feature will be removed in v6.0.0. See https://github.com/optuna/optuna/releases/tag/v3.0.0. Use suggest_float(..., log=True) instead.\n",
            "  C = trial.suggest_loguniform('lr_C', 1e-5, 1e2)\n",
            "<ipython-input-213-cb7bb886cc37>:2: FutureWarning: suggest_loguniform has been deprecated in v3.0.0. This feature will be removed in v6.0.0. See https://github.com/optuna/optuna/releases/tag/v3.0.0. Use suggest_float(..., log=True) instead.\n",
            "  C = trial.suggest_loguniform('lr_C', 1e-5, 1e2)\n",
            "<ipython-input-213-cb7bb886cc37>:2: FutureWarning: suggest_loguniform has been deprecated in v3.0.0. This feature will be removed in v6.0.0. See https://github.com/optuna/optuna/releases/tag/v3.0.0. Use suggest_float(..., log=True) instead.\n",
            "  C = trial.suggest_loguniform('lr_C', 1e-5, 1e2)\n",
            "<ipython-input-213-cb7bb886cc37>:2: FutureWarning: suggest_loguniform has been deprecated in v3.0.0. This feature will be removed in v6.0.0. See https://github.com/optuna/optuna/releases/tag/v3.0.0. Use suggest_float(..., log=True) instead.\n",
            "  C = trial.suggest_loguniform('lr_C', 1e-5, 1e2)\n",
            "<ipython-input-213-cb7bb886cc37>:2: FutureWarning: suggest_loguniform has been deprecated in v3.0.0. This feature will be removed in v6.0.0. See https://github.com/optuna/optuna/releases/tag/v3.0.0. Use suggest_float(..., log=True) instead.\n",
            "  C = trial.suggest_loguniform('lr_C', 1e-5, 1e2)\n",
            "<ipython-input-213-cb7bb886cc37>:2: FutureWarning: suggest_loguniform has been deprecated in v3.0.0. This feature will be removed in v6.0.0. See https://github.com/optuna/optuna/releases/tag/v3.0.0. Use suggest_float(..., log=True) instead.\n",
            "  C = trial.suggest_loguniform('lr_C', 1e-5, 1e2)\n",
            "<ipython-input-213-cb7bb886cc37>:2: FutureWarning: suggest_loguniform has been deprecated in v3.0.0. This feature will be removed in v6.0.0. See https://github.com/optuna/optuna/releases/tag/v3.0.0. Use suggest_float(..., log=True) instead.\n",
            "  C = trial.suggest_loguniform('lr_C', 1e-5, 1e2)\n",
            "<ipython-input-213-cb7bb886cc37>:2: FutureWarning: suggest_loguniform has been deprecated in v3.0.0. This feature will be removed in v6.0.0. See https://github.com/optuna/optuna/releases/tag/v3.0.0. Use suggest_float(..., log=True) instead.\n",
            "  C = trial.suggest_loguniform('lr_C', 1e-5, 1e2)\n",
            "<ipython-input-213-cb7bb886cc37>:2: FutureWarning: suggest_loguniform has been deprecated in v3.0.0. This feature will be removed in v6.0.0. See https://github.com/optuna/optuna/releases/tag/v3.0.0. Use suggest_float(..., log=True) instead.\n",
            "  C = trial.suggest_loguniform('lr_C', 1e-5, 1e2)\n",
            "<ipython-input-213-cb7bb886cc37>:2: FutureWarning: suggest_loguniform has been deprecated in v3.0.0. This feature will be removed in v6.0.0. See https://github.com/optuna/optuna/releases/tag/v3.0.0. Use suggest_float(..., log=True) instead.\n",
            "  C = trial.suggest_loguniform('lr_C', 1e-5, 1e2)\n",
            "<ipython-input-213-cb7bb886cc37>:2: FutureWarning: suggest_loguniform has been deprecated in v3.0.0. This feature will be removed in v6.0.0. See https://github.com/optuna/optuna/releases/tag/v3.0.0. Use suggest_float(..., log=True) instead.\n",
            "  C = trial.suggest_loguniform('lr_C', 1e-5, 1e2)\n",
            "<ipython-input-213-cb7bb886cc37>:2: FutureWarning: suggest_loguniform has been deprecated in v3.0.0. This feature will be removed in v6.0.0. See https://github.com/optuna/optuna/releases/tag/v3.0.0. Use suggest_float(..., log=True) instead.\n",
            "  C = trial.suggest_loguniform('lr_C', 1e-5, 1e2)\n",
            "<ipython-input-213-cb7bb886cc37>:2: FutureWarning: suggest_loguniform has been deprecated in v3.0.0. This feature will be removed in v6.0.0. See https://github.com/optuna/optuna/releases/tag/v3.0.0. Use suggest_float(..., log=True) instead.\n",
            "  C = trial.suggest_loguniform('lr_C', 1e-5, 1e2)\n",
            "<ipython-input-213-cb7bb886cc37>:2: FutureWarning: suggest_loguniform has been deprecated in v3.0.0. This feature will be removed in v6.0.0. See https://github.com/optuna/optuna/releases/tag/v3.0.0. Use suggest_float(..., log=True) instead.\n",
            "  C = trial.suggest_loguniform('lr_C', 1e-5, 1e2)\n",
            "<ipython-input-213-cb7bb886cc37>:2: FutureWarning: suggest_loguniform has been deprecated in v3.0.0. This feature will be removed in v6.0.0. See https://github.com/optuna/optuna/releases/tag/v3.0.0. Use suggest_float(..., log=True) instead.\n",
            "  C = trial.suggest_loguniform('lr_C', 1e-5, 1e2)\n",
            "<ipython-input-213-cb7bb886cc37>:2: FutureWarning: suggest_loguniform has been deprecated in v3.0.0. This feature will be removed in v6.0.0. See https://github.com/optuna/optuna/releases/tag/v3.0.0. Use suggest_float(..., log=True) instead.\n",
            "  C = trial.suggest_loguniform('lr_C', 1e-5, 1e2)\n",
            "<ipython-input-213-cb7bb886cc37>:2: FutureWarning: suggest_loguniform has been deprecated in v3.0.0. This feature will be removed in v6.0.0. See https://github.com/optuna/optuna/releases/tag/v3.0.0. Use suggest_float(..., log=True) instead.\n",
            "  C = trial.suggest_loguniform('lr_C', 1e-5, 1e2)\n",
            "<ipython-input-213-cb7bb886cc37>:2: FutureWarning: suggest_loguniform has been deprecated in v3.0.0. This feature will be removed in v6.0.0. See https://github.com/optuna/optuna/releases/tag/v3.0.0. Use suggest_float(..., log=True) instead.\n",
            "  C = trial.suggest_loguniform('lr_C', 1e-5, 1e2)\n",
            "<ipython-input-213-cb7bb886cc37>:2: FutureWarning: suggest_loguniform has been deprecated in v3.0.0. This feature will be removed in v6.0.0. See https://github.com/optuna/optuna/releases/tag/v3.0.0. Use suggest_float(..., log=True) instead.\n",
            "  C = trial.suggest_loguniform('lr_C', 1e-5, 1e2)\n",
            "<ipython-input-213-cb7bb886cc37>:2: FutureWarning: suggest_loguniform has been deprecated in v3.0.0. This feature will be removed in v6.0.0. See https://github.com/optuna/optuna/releases/tag/v3.0.0. Use suggest_float(..., log=True) instead.\n",
            "  C = trial.suggest_loguniform('lr_C', 1e-5, 1e2)\n",
            "<ipython-input-213-cb7bb886cc37>:2: FutureWarning: suggest_loguniform has been deprecated in v3.0.0. This feature will be removed in v6.0.0. See https://github.com/optuna/optuna/releases/tag/v3.0.0. Use suggest_float(..., log=True) instead.\n",
            "  C = trial.suggest_loguniform('lr_C', 1e-5, 1e2)\n",
            "<ipython-input-213-cb7bb886cc37>:2: FutureWarning: suggest_loguniform has been deprecated in v3.0.0. This feature will be removed in v6.0.0. See https://github.com/optuna/optuna/releases/tag/v3.0.0. Use suggest_float(..., log=True) instead.\n",
            "  C = trial.suggest_loguniform('lr_C', 1e-5, 1e2)\n",
            "<ipython-input-213-cb7bb886cc37>:2: FutureWarning: suggest_loguniform has been deprecated in v3.0.0. This feature will be removed in v6.0.0. See https://github.com/optuna/optuna/releases/tag/v3.0.0. Use suggest_float(..., log=True) instead.\n",
            "  C = trial.suggest_loguniform('lr_C', 1e-5, 1e2)\n",
            "<ipython-input-213-cb7bb886cc37>:2: FutureWarning: suggest_loguniform has been deprecated in v3.0.0. This feature will be removed in v6.0.0. See https://github.com/optuna/optuna/releases/tag/v3.0.0. Use suggest_float(..., log=True) instead.\n",
            "  C = trial.suggest_loguniform('lr_C', 1e-5, 1e2)\n"
          ]
        }
      ]
    },
    {
      "cell_type": "code",
      "source": [
        "best_lr_C = study_lr.best_trial.params['lr_C']\n",
        "lr = LogisticRegression(C=best_lr_C, max_iter=1200000)\n",
        "lr.fit(x_train, y_train)\n",
        "lr_train_score = lr.score(x_train, y_train)\n",
        "lr_test_score = lr.score(x_test, y_test)\n",
        "print(f\"Logistic Regression Train Score: {lr_train_score:.4f}\")\n",
        "print(f\"Logistic Regression Test Score: {lr_test_score:.4f}\")"
      ],
      "metadata": {
        "colab": {
          "base_uri": "https://localhost:8080/"
        },
        "id": "yAOgGOfqwSjX",
        "outputId": "a75cf7ab-5110-4bb4-bcc9-bb0e8a14cf2e"
      },
      "execution_count": 219,
      "outputs": [
        {
          "output_type": "stream",
          "name": "stdout",
          "text": [
            "Logistic Regression Train Score: 0.9874\n",
            "Logistic Regression Test Score: 0.9800\n"
          ]
        }
      ]
    },
    {
      "cell_type": "code",
      "source": [
        "best_knn_n_neighbors = study_knn.best_trial.params['KNN_n_neighbors']\n",
        "knn = KNeighborsClassifier(n_neighbors=best_knn_n_neighbors)\n",
        "knn.fit(x_train, y_train)\n",
        "knn_train_score = knn.score(x_train, y_train)\n",
        "knn_test_score = knn.score(x_test, y_test)\n",
        "print(f\"KNeighborsClassifier Train Score: {knn_train_score:.4f}\")\n",
        "print(f\"KNeighborsClassifier Test Score: {knn_test_score:.4f}\")\n"
      ],
      "metadata": {
        "colab": {
          "base_uri": "https://localhost:8080/"
        },
        "id": "apiw13_CwlXu",
        "outputId": "a88871d2-6fd1-4f42-aae4-9e94eff6f516"
      },
      "execution_count": 220,
      "outputs": [
        {
          "output_type": "stream",
          "name": "stdout",
          "text": [
            "KNeighborsClassifier Train Score: 1.0000\n",
            "KNeighborsClassifier Test Score: 0.9993\n"
          ]
        }
      ]
    },
    {
      "cell_type": "code",
      "source": [
        "best_dt_max_depth = study_dt.best_trial.params['dt_max_depth']\n",
        "best_dt_max_features = study_dt.best_trial.params['dt_max_features']\n",
        "dt = DecisionTreeClassifier(max_depth=best_dt_max_depth, max_features=best_dt_max_features)\n",
        "dt.fit(x_train, y_train)\n",
        "dt_train_score = dt.score(x_train, y_train)\n",
        "dt_test_score = dt.score(x_test, y_test)\n",
        "print(f\"Decision Tree Train Score: {dt_train_score:.4f}\")\n",
        "print(f\"Decision Tree Test Score: {dt_test_score:.4f}\")"
      ],
      "metadata": {
        "colab": {
          "base_uri": "https://localhost:8080/"
        },
        "id": "V-FGIHbtxI8A",
        "outputId": "cb723f53-92a6-46ae-9239-f068766fce53"
      },
      "execution_count": 221,
      "outputs": [
        {
          "output_type": "stream",
          "name": "stdout",
          "text": [
            "Decision Tree Train Score: 1.0000\n",
            "Decision Tree Test Score: 0.9993\n"
          ]
        }
      ]
    },
    {
      "cell_type": "code",
      "source": [
        "y_pred_lr = lr.predict(x_test)\n",
        "print(\"Logistic Regression Classification Report:\")\n",
        "print(classification_report(y_test, y_pred_lr))\n",
        "print(\"Logistic Regression Confusion Matrix:\")\n",
        "print(confusion_matrix(y_test, y_pred_lr))\n",
        "\n",
        "f1_lr = f1_score(y_test, y_pred_lr, average='weighted')\n",
        "print(f\"Logistic Regression F1-score: {f1_lr:.4f}\")"
      ],
      "metadata": {
        "colab": {
          "base_uri": "https://localhost:8080/"
        },
        "id": "bjmi52cuxXPC",
        "outputId": "069376e4-9cdf-4d88-ede7-7e3ef73118f9"
      },
      "execution_count": 222,
      "outputs": [
        {
          "output_type": "stream",
          "name": "stdout",
          "text": [
            "Logistic Regression Classification Report:\n",
            "              precision    recall  f1-score   support\n",
            "\n",
            "           0       0.90      0.93      0.92        61\n",
            "           1       1.00      0.94      0.97       162\n",
            "           2       0.99      0.93      0.96       190\n",
            "           3       0.99      1.00      0.99       193\n",
            "           4       1.00      1.00      1.00       233\n",
            "           5       0.97      1.00      0.99       144\n",
            "           6       0.95      1.00      0.98       291\n",
            "           7       0.99      0.99      0.99       226\n",
            "\n",
            "    accuracy                           0.98      1500\n",
            "   macro avg       0.98      0.97      0.97      1500\n",
            "weighted avg       0.98      0.98      0.98      1500\n",
            "\n",
            "Logistic Regression Confusion Matrix:\n",
            "[[ 57   0   2   0   0   2   0   0]\n",
            " [  0 152   0   0   0   0  10   0]\n",
            " [  6   0 176   2   0   0   4   2]\n",
            " [  0   0   0 193   0   0   0   0]\n",
            " [  0   0   0   0 233   0   0   0]\n",
            " [  0   0   0   0   0 144   0   0]\n",
            " [  0   0   0   0   0   0 291   0]\n",
            " [  0   0   0   0   0   2   0 224]]\n",
            "Logistic Regression F1-score: 0.9799\n"
          ]
        }
      ]
    },
    {
      "cell_type": "code",
      "source": [
        "y_pred_dt = dt.predict(x_test)\n",
        "\n",
        "print(\"Decision Tree Classification Report:\")\n",
        "print(classification_report(y_test, y_pred_dt))\n",
        "\n",
        "print(\"Decision Tree Confusion Matrix:\")\n",
        "print(confusion_matrix(y_test, y_pred_dt))\n",
        "\n",
        "f1_dt = f1_score(y_test, y_pred_dt, average='weighted')\n",
        "print(f\"Decision Tree F1-score: {f1_dt:.4f}\")\n"
      ],
      "metadata": {
        "colab": {
          "base_uri": "https://localhost:8080/"
        },
        "id": "ftzzFbFvyQQb",
        "outputId": "92f9aba5-0261-4e95-9eda-1638664c7f52"
      },
      "execution_count": 223,
      "outputs": [
        {
          "output_type": "stream",
          "name": "stdout",
          "text": [
            "Decision Tree Classification Report:\n",
            "              precision    recall  f1-score   support\n",
            "\n",
            "           0       1.00      1.00      1.00        61\n",
            "           1       1.00      1.00      1.00       162\n",
            "           2       1.00      1.00      1.00       190\n",
            "           3       1.00      1.00      1.00       193\n",
            "           4       1.00      1.00      1.00       233\n",
            "           5       1.00      0.99      1.00       144\n",
            "           6       1.00      1.00      1.00       291\n",
            "           7       1.00      1.00      1.00       226\n",
            "\n",
            "    accuracy                           1.00      1500\n",
            "   macro avg       1.00      1.00      1.00      1500\n",
            "weighted avg       1.00      1.00      1.00      1500\n",
            "\n",
            "Decision Tree Confusion Matrix:\n",
            "[[ 61   0   0   0   0   0   0   0]\n",
            " [  0 162   0   0   0   0   0   0]\n",
            " [  0   0 190   0   0   0   0   0]\n",
            " [  0   0   0 193   0   0   0   0]\n",
            " [  0   0   0   0 233   0   0   0]\n",
            " [  0   0   0   0   0 143   0   1]\n",
            " [  0   0   0   0   0   0 291   0]\n",
            " [  0   0   0   0   0   0   0 226]]\n",
            "Decision Tree F1-score: 0.9993\n"
          ]
        }
      ]
    },
    {
      "cell_type": "code",
      "source": [
        "y_pred_knn = knn.predict(x_test)\n",
        "\n",
        "print(\"KNeighborsClassifier Classification Report:\")\n",
        "print(classification_report(y_test, y_pred_knn))\n",
        "\n",
        "print(\"KNeighborsClassifier Confusion Matrix:\")\n",
        "print(confusion_matrix(y_test, y_pred_knn))\n",
        "\n",
        "f1_knn = f1_score(y_test, y_pred_knn, average='weighted')\n",
        "print(f\"KNeighborsClassifier F1-score: {f1_knn:.4f}\")\n"
      ],
      "metadata": {
        "colab": {
          "base_uri": "https://localhost:8080/"
        },
        "id": "uBWiXPkLyT75",
        "outputId": "b0d4d7a1-8242-4d6d-e27b-b9869ef26714"
      },
      "execution_count": 224,
      "outputs": [
        {
          "output_type": "stream",
          "name": "stdout",
          "text": [
            "KNeighborsClassifier Classification Report:\n",
            "              precision    recall  f1-score   support\n",
            "\n",
            "           0       1.00      1.00      1.00        61\n",
            "           1       1.00      0.99      1.00       162\n",
            "           2       1.00      1.00      1.00       190\n",
            "           3       1.00      1.00      1.00       193\n",
            "           4       1.00      1.00      1.00       233\n",
            "           5       1.00      1.00      1.00       144\n",
            "           6       1.00      1.00      1.00       291\n",
            "           7       1.00      1.00      1.00       226\n",
            "\n",
            "    accuracy                           1.00      1500\n",
            "   macro avg       1.00      1.00      1.00      1500\n",
            "weighted avg       1.00      1.00      1.00      1500\n",
            "\n",
            "KNeighborsClassifier Confusion Matrix:\n",
            "[[ 61   0   0   0   0   0   0   0]\n",
            " [  0 161   0   0   0   0   1   0]\n",
            " [  0   0 190   0   0   0   0   0]\n",
            " [  0   0   0 193   0   0   0   0]\n",
            " [  0   0   0   0 233   0   0   0]\n",
            " [  0   0   0   0   0 144   0   0]\n",
            " [  0   0   0   0   0   0 291   0]\n",
            " [  0   0   0   0   0   0   0 226]]\n",
            "KNeighborsClassifier F1-score: 0.9993\n"
          ]
        }
      ]
    },
    {
      "cell_type": "code",
      "source": [
        "f1_scores = {\n",
        "    'LogisticRegression': f1_lr,\n",
        "    'DecisionTreeClassifier': f1_dt,\n",
        "    'KNeighborsClassifier': f1_knn\n",
        "}\n",
        "\n",
        "f1_scores_df = pd.DataFrame.from_dict(f1_scores, orient='index', columns=['F1-score']) * 100\n",
        "\n",
        "f1_scores_df.plot(kind='bar', ylim=[80, 100], figsize=(10, 6), rot=0)\n",
        "plt.title('F1-score Comparison')\n",
        "plt.xlabel('Model')\n",
        "plt.ylabel('F1-score (%)')\n",
        "plt.show()\n"
      ],
      "metadata": {
        "colab": {
          "base_uri": "https://localhost:8080/",
          "height": 564
        },
        "id": "Gigx1F4qyx0l",
        "outputId": "975da574-a192-4ded-a89e-0f886a6da0ea"
      },
      "execution_count": 225,
      "outputs": [
        {
          "output_type": "display_data",
          "data": {
            "text/plain": [
              "<Figure size 1000x600 with 1 Axes>"
            ],
            "image/png": "[encoded data removed]"
          },
          "metadata": {}
        }
      ]
    }
  ]
}